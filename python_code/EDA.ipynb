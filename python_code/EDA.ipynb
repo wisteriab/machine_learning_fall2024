{
 "cells": [
  {
   "cell_type": "code",
   "execution_count": 19,
   "metadata": {},
   "outputs": [],
   "source": [
    "import pandas as pd\n",
    "import numpy as np\n",
    "import matplotlib.pyplot as plt\n",
    "import seaborn as sns\n",
    "import plotly.graph_objects as go"
   ]
  },
  {
   "cell_type": "code",
   "execution_count": 20,
   "metadata": {},
   "outputs": [],
   "source": [
    "pd.set_option('display.max_columns', None)"
   ]
  },
  {
   "cell_type": "code",
   "execution_count": 21,
   "metadata": {},
   "outputs": [
    {
     "data": {
      "text/html": [
       "<div>\n",
       "<style scoped>\n",
       "    .dataframe tbody tr th:only-of-type {\n",
       "        vertical-align: middle;\n",
       "    }\n",
       "\n",
       "    .dataframe tbody tr th {\n",
       "        vertical-align: top;\n",
       "    }\n",
       "\n",
       "    .dataframe thead th {\n",
       "        text-align: right;\n",
       "    }\n",
       "</style>\n",
       "<table border=\"1\" class=\"dataframe\">\n",
       "  <thead>\n",
       "    <tr style=\"text-align: right;\">\n",
       "      <th></th>\n",
       "      <th>age</th>\n",
       "      <th>job_industry_recode</th>\n",
       "      <th>school_enroll_lastweek</th>\n",
       "      <th>employment</th>\n",
       "      <th>fam_size</th>\n",
       "      <th>full_time_work</th>\n",
       "      <th>full_part_school</th>\n",
       "      <th>highest_education</th>\n",
       "      <th>hs_col_unenrolled</th>\n",
       "      <th>weekly_earnings</th>\n",
       "      <th>hourly_work_yn</th>\n",
       "      <th>hours_worked</th>\n",
       "      <th>labor_force_recode</th>\n",
       "      <th>marital_status</th>\n",
       "      <th>main_job_industry_recode</th>\n",
       "      <th>sex</th>\n",
       "      <th>union_contract_avail</th>\n",
       "      <th>union_member_yn</th>\n",
       "      <th>reason_unemployed</th>\n",
       "      <th>weeks_unemployed</th>\n",
       "      <th>ft_pt_unem</th>\n",
       "      <th>age_recode_gt15</th>\n",
       "      <th>federal_gross_income_adj</th>\n",
       "      <th>need_childcare</th>\n",
       "      <th>hh_childcare_val</th>\n",
       "      <th>hh_childcare</th>\n",
       "      <th>health_insurance_ly</th>\n",
       "      <th>company_offer_insurance</th>\n",
       "      <th>poverty_ratio</th>\n",
       "      <th>family_earn_ly</th>\n",
       "      <th>fam_id</th>\n",
       "      <th>fam_med_costs</th>\n",
       "      <th>fam_outofpocket_med_costs</th>\n",
       "      <th>fam_otc_med_costs</th>\n",
       "      <th>fam_rent_val</th>\n",
       "      <th>fips</th>\n",
       "      <th>state</th>\n",
       "      <th>state.1</th>\n",
       "    </tr>\n",
       "  </thead>\n",
       "  <tbody>\n",
       "    <tr>\n",
       "      <th>1</th>\n",
       "      <td>67</td>\n",
       "      <td>Not in universe, or children</td>\n",
       "      <td>Not in univ. or children &amp; Armed Forces</td>\n",
       "      <td>0</td>\n",
       "      <td>0</td>\n",
       "      <td>0</td>\n",
       "      <td>0</td>\n",
       "      <td>Some College But No Degree</td>\n",
       "      <td>0</td>\n",
       "      <td>0</td>\n",
       "      <td>Not in universe or children &amp; Armed Forc</td>\n",
       "      <td>0</td>\n",
       "      <td>Not in labor force</td>\n",
       "      <td>Never married</td>\n",
       "      <td>Not in universe, or children</td>\n",
       "      <td>Female</td>\n",
       "      <td>Not in universe or children &amp; Armed Forc</td>\n",
       "      <td>Not in universe or children &amp; Armed Forc</td>\n",
       "      <td>Not in univ or children or Armed Forces</td>\n",
       "      <td>0</td>\n",
       "      <td>Not in labor force</td>\n",
       "      <td>65 to 69 years</td>\n",
       "      <td>0</td>\n",
       "      <td>Niu</td>\n",
       "      <td>-1</td>\n",
       "      <td>Niu</td>\n",
       "      <td>Coverage for all of year</td>\n",
       "      <td>NIU</td>\n",
       "      <td>BELOW POVERTY LEVEL</td>\n",
       "      <td>0</td>\n",
       "      <td>1</td>\n",
       "      <td>0</td>\n",
       "      <td>0</td>\n",
       "      <td>0</td>\n",
       "      <td>0</td>\n",
       "      <td>ME</td>\n",
       "      <td>4</td>\n",
       "      <td>23</td>\n",
       "    </tr>\n",
       "    <tr>\n",
       "      <th>2</th>\n",
       "      <td>74</td>\n",
       "      <td>Not in universe, or children</td>\n",
       "      <td>Not in univ. or children &amp; Armed Forces</td>\n",
       "      <td>0</td>\n",
       "      <td>0</td>\n",
       "      <td>0</td>\n",
       "      <td>0</td>\n",
       "      <td>High school graduate-high school diploma</td>\n",
       "      <td>0</td>\n",
       "      <td>0</td>\n",
       "      <td>Not in universe or children &amp; Armed Forc</td>\n",
       "      <td>0</td>\n",
       "      <td>Not in labor force</td>\n",
       "      <td>Divorced</td>\n",
       "      <td>Not in universe, or children</td>\n",
       "      <td>Male</td>\n",
       "      <td>Not in universe or children &amp; Armed Forc</td>\n",
       "      <td>Not in universe or children &amp; Armed Forc</td>\n",
       "      <td>Not in univ or children or Armed Forces</td>\n",
       "      <td>0</td>\n",
       "      <td>Not in labor force</td>\n",
       "      <td>70 to 74 years</td>\n",
       "      <td>9</td>\n",
       "      <td>Niu</td>\n",
       "      <td>-1</td>\n",
       "      <td>Niu</td>\n",
       "      <td>Coverage for all of year</td>\n",
       "      <td>NIU</td>\n",
       "      <td>BELOW POVERTY LEVEL</td>\n",
       "      <td>0</td>\n",
       "      <td>1</td>\n",
       "      <td>0</td>\n",
       "      <td>60</td>\n",
       "      <td>60</td>\n",
       "      <td>0</td>\n",
       "      <td>ME</td>\n",
       "      <td>4</td>\n",
       "      <td>23</td>\n",
       "    </tr>\n",
       "    <tr>\n",
       "      <th>3</th>\n",
       "      <td>66</td>\n",
       "      <td>Not in universe, or children</td>\n",
       "      <td>Not in univ. or children &amp; Armed Forces</td>\n",
       "      <td>0</td>\n",
       "      <td>1</td>\n",
       "      <td>0</td>\n",
       "      <td>0</td>\n",
       "      <td>High school graduate-high school diploma</td>\n",
       "      <td>0</td>\n",
       "      <td>0</td>\n",
       "      <td>Not in universe or children &amp; Armed Forc</td>\n",
       "      <td>0</td>\n",
       "      <td>Not in labor force</td>\n",
       "      <td>Widowed</td>\n",
       "      <td>Not in universe, or children</td>\n",
       "      <td>Female</td>\n",
       "      <td>Not in universe or children &amp; Armed Forc</td>\n",
       "      <td>Not in universe or children &amp; Armed Forc</td>\n",
       "      <td>Not in univ or children or Armed Forces</td>\n",
       "      <td>0</td>\n",
       "      <td>Not in labor force</td>\n",
       "      <td>65 to 69 years</td>\n",
       "      <td>0</td>\n",
       "      <td>Niu</td>\n",
       "      <td>-1</td>\n",
       "      <td>Niu</td>\n",
       "      <td>Coverage for all of year</td>\n",
       "      <td>NIU</td>\n",
       "      <td>150 AND ABOVE THE POVERTY LEVEL</td>\n",
       "      <td>0</td>\n",
       "      <td>1</td>\n",
       "      <td>0</td>\n",
       "      <td>0</td>\n",
       "      <td>0</td>\n",
       "      <td>0</td>\n",
       "      <td>ME</td>\n",
       "      <td>3</td>\n",
       "      <td>23</td>\n",
       "    </tr>\n",
       "    <tr>\n",
       "      <th>4</th>\n",
       "      <td>68</td>\n",
       "      <td>Not in universe, or children</td>\n",
       "      <td>Not in univ. or children &amp; Armed Forces</td>\n",
       "      <td>0</td>\n",
       "      <td>1</td>\n",
       "      <td>0</td>\n",
       "      <td>0</td>\n",
       "      <td>High school graduate-high school diploma</td>\n",
       "      <td>0</td>\n",
       "      <td>0</td>\n",
       "      <td>Not in universe or children &amp; Armed Forc</td>\n",
       "      <td>0</td>\n",
       "      <td>Not in labor force</td>\n",
       "      <td>Widowed</td>\n",
       "      <td>Not in universe, or children</td>\n",
       "      <td>Female</td>\n",
       "      <td>Not in universe or children &amp; Armed Forc</td>\n",
       "      <td>Not in universe or children &amp; Armed Forc</td>\n",
       "      <td>Not in univ or children or Armed Forces</td>\n",
       "      <td>0</td>\n",
       "      <td>Not in labor force</td>\n",
       "      <td>65 to 69 years</td>\n",
       "      <td>2400</td>\n",
       "      <td>Niu</td>\n",
       "      <td>-1</td>\n",
       "      <td>Niu</td>\n",
       "      <td>Coverage for all of year</td>\n",
       "      <td>NIU</td>\n",
       "      <td>150 AND ABOVE THE POVERTY LEVEL</td>\n",
       "      <td>0</td>\n",
       "      <td>1</td>\n",
       "      <td>0</td>\n",
       "      <td>0</td>\n",
       "      <td>0</td>\n",
       "      <td>0</td>\n",
       "      <td>ME</td>\n",
       "      <td>3</td>\n",
       "      <td>23</td>\n",
       "    </tr>\n",
       "    <tr>\n",
       "      <th>5</th>\n",
       "      <td>52</td>\n",
       "      <td>Not in universe, or children</td>\n",
       "      <td>No</td>\n",
       "      <td>0</td>\n",
       "      <td>1</td>\n",
       "      <td>0</td>\n",
       "      <td>0</td>\n",
       "      <td>High school graduate-high school diploma</td>\n",
       "      <td>0</td>\n",
       "      <td>0</td>\n",
       "      <td>Not in universe or children &amp; Armed Forc</td>\n",
       "      <td>0</td>\n",
       "      <td>Not in labor force</td>\n",
       "      <td>Marr-civ sp present</td>\n",
       "      <td>Not in universe, or children</td>\n",
       "      <td>Female</td>\n",
       "      <td>Not in universe or children &amp; Armed Forc</td>\n",
       "      <td>Not in universe or children &amp; Armed Forc</td>\n",
       "      <td>Not in univ or children or Armed Forces</td>\n",
       "      <td>0</td>\n",
       "      <td>Not in labor force</td>\n",
       "      <td>50 to 54 years</td>\n",
       "      <td>47828</td>\n",
       "      <td>Niu</td>\n",
       "      <td>-1</td>\n",
       "      <td>Niu</td>\n",
       "      <td>Coverage for all of year</td>\n",
       "      <td>NIU</td>\n",
       "      <td>150 AND ABOVE THE POVERTY LEVEL</td>\n",
       "      <td>42000</td>\n",
       "      <td>1</td>\n",
       "      <td>50</td>\n",
       "      <td>1370</td>\n",
       "      <td>0</td>\n",
       "      <td>0</td>\n",
       "      <td>ME</td>\n",
       "      <td>3</td>\n",
       "      <td>23</td>\n",
       "    </tr>\n",
       "  </tbody>\n",
       "</table>\n",
       "</div>"
      ],
      "text/plain": [
       "   age           job_industry_recode                   school_enroll_lastweek  \\\n",
       "1   67  Not in universe, or children  Not in univ. or children & Armed Forces   \n",
       "2   74  Not in universe, or children  Not in univ. or children & Armed Forces   \n",
       "3   66  Not in universe, or children  Not in univ. or children & Armed Forces   \n",
       "4   68  Not in universe, or children  Not in univ. or children & Armed Forces   \n",
       "5   52  Not in universe, or children                                       No   \n",
       "\n",
       "   employment  fam_size  full_time_work  full_part_school  \\\n",
       "1           0         0               0                 0   \n",
       "2           0         0               0                 0   \n",
       "3           0         1               0                 0   \n",
       "4           0         1               0                 0   \n",
       "5           0         1               0                 0   \n",
       "\n",
       "                          highest_education  hs_col_unenrolled  \\\n",
       "1                Some College But No Degree                  0   \n",
       "2  High school graduate-high school diploma                  0   \n",
       "3  High school graduate-high school diploma                  0   \n",
       "4  High school graduate-high school diploma                  0   \n",
       "5  High school graduate-high school diploma                  0   \n",
       "\n",
       "   weekly_earnings                            hourly_work_yn  hours_worked  \\\n",
       "1                0  Not in universe or children & Armed Forc             0   \n",
       "2                0  Not in universe or children & Armed Forc             0   \n",
       "3                0  Not in universe or children & Armed Forc             0   \n",
       "4                0  Not in universe or children & Armed Forc             0   \n",
       "5                0  Not in universe or children & Armed Forc             0   \n",
       "\n",
       "   labor_force_recode       marital_status      main_job_industry_recode  \\\n",
       "1  Not in labor force        Never married  Not in universe, or children   \n",
       "2  Not in labor force             Divorced  Not in universe, or children   \n",
       "3  Not in labor force              Widowed  Not in universe, or children   \n",
       "4  Not in labor force              Widowed  Not in universe, or children   \n",
       "5  Not in labor force  Marr-civ sp present  Not in universe, or children   \n",
       "\n",
       "      sex                      union_contract_avail  \\\n",
       "1  Female  Not in universe or children & Armed Forc   \n",
       "2    Male  Not in universe or children & Armed Forc   \n",
       "3  Female  Not in universe or children & Armed Forc   \n",
       "4  Female  Not in universe or children & Armed Forc   \n",
       "5  Female  Not in universe or children & Armed Forc   \n",
       "\n",
       "                            union_member_yn  \\\n",
       "1  Not in universe or children & Armed Forc   \n",
       "2  Not in universe or children & Armed Forc   \n",
       "3  Not in universe or children & Armed Forc   \n",
       "4  Not in universe or children & Armed Forc   \n",
       "5  Not in universe or children & Armed Forc   \n",
       "\n",
       "                         reason_unemployed  weeks_unemployed  \\\n",
       "1  Not in univ or children or Armed Forces                 0   \n",
       "2  Not in univ or children or Armed Forces                 0   \n",
       "3  Not in univ or children or Armed Forces                 0   \n",
       "4  Not in univ or children or Armed Forces                 0   \n",
       "5  Not in univ or children or Armed Forces                 0   \n",
       "\n",
       "           ft_pt_unem age_recode_gt15  federal_gross_income_adj  \\\n",
       "1  Not in labor force  65 to 69 years                         0   \n",
       "2  Not in labor force  70 to 74 years                         9   \n",
       "3  Not in labor force  65 to 69 years                         0   \n",
       "4  Not in labor force  65 to 69 years                      2400   \n",
       "5  Not in labor force  50 to 54 years                     47828   \n",
       "\n",
       "  need_childcare  hh_childcare_val hh_childcare       health_insurance_ly  \\\n",
       "1            Niu                -1          Niu  Coverage for all of year   \n",
       "2            Niu                -1          Niu  Coverage for all of year   \n",
       "3            Niu                -1          Niu  Coverage for all of year   \n",
       "4            Niu                -1          Niu  Coverage for all of year   \n",
       "5            Niu                -1          Niu  Coverage for all of year   \n",
       "\n",
       "  company_offer_insurance                    poverty_ratio  family_earn_ly  \\\n",
       "1                     NIU              BELOW POVERTY LEVEL               0   \n",
       "2                     NIU              BELOW POVERTY LEVEL               0   \n",
       "3                     NIU  150 AND ABOVE THE POVERTY LEVEL               0   \n",
       "4                     NIU  150 AND ABOVE THE POVERTY LEVEL               0   \n",
       "5                     NIU  150 AND ABOVE THE POVERTY LEVEL           42000   \n",
       "\n",
       "   fam_id  fam_med_costs  fam_outofpocket_med_costs  fam_otc_med_costs  \\\n",
       "1       1              0                          0                  0   \n",
       "2       1              0                         60                 60   \n",
       "3       1              0                          0                  0   \n",
       "4       1              0                          0                  0   \n",
       "5       1             50                       1370                  0   \n",
       "\n",
       "   fam_rent_val fips  state  state.1  \n",
       "1             0   ME      4       23  \n",
       "2             0   ME      4       23  \n",
       "3             0   ME      3       23  \n",
       "4             0   ME      3       23  \n",
       "5             0   ME      3       23  "
      ]
     },
     "execution_count": 21,
     "metadata": {},
     "output_type": "execute_result"
    }
   ],
   "source": [
    "df = pd.read_csv('../data/clean_data/data_v1.csv', index_col = 0)\n",
    "df.head()"
   ]
  },
  {
   "cell_type": "code",
   "execution_count": 22,
   "metadata": {},
   "outputs": [
    {
     "data": {
      "application/vnd.plotly.v1+json": {
       "config": {
        "plotlyServerURL": "https://plot.ly"
       },
       "data": [
        {
         "colorbar": {
          "title": {
           "text": "Mean Income"
          }
         },
         "colorscale": [
          [
           0,
           "rgb(255,245,235)"
          ],
          [
           0.125,
           "rgb(254,230,206)"
          ],
          [
           0.25,
           "rgb(253,208,162)"
          ],
          [
           0.375,
           "rgb(253,174,107)"
          ],
          [
           0.5,
           "rgb(253,141,60)"
          ],
          [
           0.625,
           "rgb(241,105,19)"
          ],
          [
           0.75,
           "rgb(217,72,1)"
          ],
          [
           0.875,
           "rgb(166,54,3)"
          ],
          [
           1,
           "rgb(127,39,4)"
          ]
         ],
         "locationmode": "USA-states",
         "locations": [
          "AK",
          "AL",
          "AR",
          "AZ",
          "CA",
          "CO",
          "CT",
          "DC",
          "DE",
          "FL",
          "GA",
          "HI",
          "IA",
          "ID",
          "IL",
          "IN",
          "KS",
          "KY",
          "LA",
          "MA",
          "MD",
          "ME",
          "MI",
          "MN",
          "MO",
          "MS",
          "MT",
          "NC",
          "ND",
          "NE",
          "NH",
          "NJ",
          "NM",
          "NV",
          "NY",
          "OH",
          "OK",
          "OR",
          "PA",
          "RI",
          "SC",
          "SD",
          "TN",
          "TX",
          "UT",
          "VA",
          "VT",
          "WA",
          "WI",
          "WV",
          "WY"
         ],
         "type": "choropleth",
         "z": [
          40482.78680203046,
          31586.957640925382,
          28797.04460822343,
          35527.445065920896,
          43025.959074733095,
          48477.962596259626,
          48287.92762743864,
          75225.15691489361,
          37902.062539481994,
          36052.98169271934,
          34148.519629057184,
          39109.375,
          40272.41179839634,
          32510.678679817906,
          42404.47379292538,
          34859.72666943177,
          42705.03621169917,
          28790.70544090056,
          29145.826268656718,
          50978.61469032057,
          49907.62780514505,
          35932.14967259121,
          36824.633394383396,
          43647.44504021448,
          36193.75201432408,
          24903.742251863478,
          37247.77524143986,
          35547.9170914945,
          39310.430751173706,
          36599.59830508474,
          44076.91955526488,
          45695.409107206884,
          27360.25860155383,
          33633.28907398334,
          40778.38647518633,
          36290.185126077246,
          31703.21899392888,
          42334.99197860963,
          39921.594743758214,
          42600.749783549785,
          32878.87885714286,
          39120.35967641568,
          34597.43358595931,
          35926.42387673742,
          40031.266153846154,
          48072.309262759925,
          42204.486175115206,
          48373.0718171926,
          37603.464697045565,
          27169.664414414416,
          36073.625334045966
         ]
        }
       ],
       "layout": {
        "geo": {
         "scope": "usa"
        },
        "template": {
         "data": {
          "bar": [
           {
            "error_x": {
             "color": "#2a3f5f"
            },
            "error_y": {
             "color": "#2a3f5f"
            },
            "marker": {
             "line": {
              "color": "#E5ECF6",
              "width": 0.5
             },
             "pattern": {
              "fillmode": "overlay",
              "size": 10,
              "solidity": 0.2
             }
            },
            "type": "bar"
           }
          ],
          "barpolar": [
           {
            "marker": {
             "line": {
              "color": "#E5ECF6",
              "width": 0.5
             },
             "pattern": {
              "fillmode": "overlay",
              "size": 10,
              "solidity": 0.2
             }
            },
            "type": "barpolar"
           }
          ],
          "carpet": [
           {
            "aaxis": {
             "endlinecolor": "#2a3f5f",
             "gridcolor": "white",
             "linecolor": "white",
             "minorgridcolor": "white",
             "startlinecolor": "#2a3f5f"
            },
            "baxis": {
             "endlinecolor": "#2a3f5f",
             "gridcolor": "white",
             "linecolor": "white",
             "minorgridcolor": "white",
             "startlinecolor": "#2a3f5f"
            },
            "type": "carpet"
           }
          ],
          "choropleth": [
           {
            "colorbar": {
             "outlinewidth": 0,
             "ticks": ""
            },
            "type": "choropleth"
           }
          ],
          "contour": [
           {
            "colorbar": {
             "outlinewidth": 0,
             "ticks": ""
            },
            "colorscale": [
             [
              0,
              "#0d0887"
             ],
             [
              0.1111111111111111,
              "#46039f"
             ],
             [
              0.2222222222222222,
              "#7201a8"
             ],
             [
              0.3333333333333333,
              "#9c179e"
             ],
             [
              0.4444444444444444,
              "#bd3786"
             ],
             [
              0.5555555555555556,
              "#d8576b"
             ],
             [
              0.6666666666666666,
              "#ed7953"
             ],
             [
              0.7777777777777778,
              "#fb9f3a"
             ],
             [
              0.8888888888888888,
              "#fdca26"
             ],
             [
              1,
              "#f0f921"
             ]
            ],
            "type": "contour"
           }
          ],
          "contourcarpet": [
           {
            "colorbar": {
             "outlinewidth": 0,
             "ticks": ""
            },
            "type": "contourcarpet"
           }
          ],
          "heatmap": [
           {
            "colorbar": {
             "outlinewidth": 0,
             "ticks": ""
            },
            "colorscale": [
             [
              0,
              "#0d0887"
             ],
             [
              0.1111111111111111,
              "#46039f"
             ],
             [
              0.2222222222222222,
              "#7201a8"
             ],
             [
              0.3333333333333333,
              "#9c179e"
             ],
             [
              0.4444444444444444,
              "#bd3786"
             ],
             [
              0.5555555555555556,
              "#d8576b"
             ],
             [
              0.6666666666666666,
              "#ed7953"
             ],
             [
              0.7777777777777778,
              "#fb9f3a"
             ],
             [
              0.8888888888888888,
              "#fdca26"
             ],
             [
              1,
              "#f0f921"
             ]
            ],
            "type": "heatmap"
           }
          ],
          "heatmapgl": [
           {
            "colorbar": {
             "outlinewidth": 0,
             "ticks": ""
            },
            "colorscale": [
             [
              0,
              "#0d0887"
             ],
             [
              0.1111111111111111,
              "#46039f"
             ],
             [
              0.2222222222222222,
              "#7201a8"
             ],
             [
              0.3333333333333333,
              "#9c179e"
             ],
             [
              0.4444444444444444,
              "#bd3786"
             ],
             [
              0.5555555555555556,
              "#d8576b"
             ],
             [
              0.6666666666666666,
              "#ed7953"
             ],
             [
              0.7777777777777778,
              "#fb9f3a"
             ],
             [
              0.8888888888888888,
              "#fdca26"
             ],
             [
              1,
              "#f0f921"
             ]
            ],
            "type": "heatmapgl"
           }
          ],
          "histogram": [
           {
            "marker": {
             "pattern": {
              "fillmode": "overlay",
              "size": 10,
              "solidity": 0.2
             }
            },
            "type": "histogram"
           }
          ],
          "histogram2d": [
           {
            "colorbar": {
             "outlinewidth": 0,
             "ticks": ""
            },
            "colorscale": [
             [
              0,
              "#0d0887"
             ],
             [
              0.1111111111111111,
              "#46039f"
             ],
             [
              0.2222222222222222,
              "#7201a8"
             ],
             [
              0.3333333333333333,
              "#9c179e"
             ],
             [
              0.4444444444444444,
              "#bd3786"
             ],
             [
              0.5555555555555556,
              "#d8576b"
             ],
             [
              0.6666666666666666,
              "#ed7953"
             ],
             [
              0.7777777777777778,
              "#fb9f3a"
             ],
             [
              0.8888888888888888,
              "#fdca26"
             ],
             [
              1,
              "#f0f921"
             ]
            ],
            "type": "histogram2d"
           }
          ],
          "histogram2dcontour": [
           {
            "colorbar": {
             "outlinewidth": 0,
             "ticks": ""
            },
            "colorscale": [
             [
              0,
              "#0d0887"
             ],
             [
              0.1111111111111111,
              "#46039f"
             ],
             [
              0.2222222222222222,
              "#7201a8"
             ],
             [
              0.3333333333333333,
              "#9c179e"
             ],
             [
              0.4444444444444444,
              "#bd3786"
             ],
             [
              0.5555555555555556,
              "#d8576b"
             ],
             [
              0.6666666666666666,
              "#ed7953"
             ],
             [
              0.7777777777777778,
              "#fb9f3a"
             ],
             [
              0.8888888888888888,
              "#fdca26"
             ],
             [
              1,
              "#f0f921"
             ]
            ],
            "type": "histogram2dcontour"
           }
          ],
          "mesh3d": [
           {
            "colorbar": {
             "outlinewidth": 0,
             "ticks": ""
            },
            "type": "mesh3d"
           }
          ],
          "parcoords": [
           {
            "line": {
             "colorbar": {
              "outlinewidth": 0,
              "ticks": ""
             }
            },
            "type": "parcoords"
           }
          ],
          "pie": [
           {
            "automargin": true,
            "type": "pie"
           }
          ],
          "scatter": [
           {
            "fillpattern": {
             "fillmode": "overlay",
             "size": 10,
             "solidity": 0.2
            },
            "type": "scatter"
           }
          ],
          "scatter3d": [
           {
            "line": {
             "colorbar": {
              "outlinewidth": 0,
              "ticks": ""
             }
            },
            "marker": {
             "colorbar": {
              "outlinewidth": 0,
              "ticks": ""
             }
            },
            "type": "scatter3d"
           }
          ],
          "scattercarpet": [
           {
            "marker": {
             "colorbar": {
              "outlinewidth": 0,
              "ticks": ""
             }
            },
            "type": "scattercarpet"
           }
          ],
          "scattergeo": [
           {
            "marker": {
             "colorbar": {
              "outlinewidth": 0,
              "ticks": ""
             }
            },
            "type": "scattergeo"
           }
          ],
          "scattergl": [
           {
            "marker": {
             "colorbar": {
              "outlinewidth": 0,
              "ticks": ""
             }
            },
            "type": "scattergl"
           }
          ],
          "scattermapbox": [
           {
            "marker": {
             "colorbar": {
              "outlinewidth": 0,
              "ticks": ""
             }
            },
            "type": "scattermapbox"
           }
          ],
          "scatterpolar": [
           {
            "marker": {
             "colorbar": {
              "outlinewidth": 0,
              "ticks": ""
             }
            },
            "type": "scatterpolar"
           }
          ],
          "scatterpolargl": [
           {
            "marker": {
             "colorbar": {
              "outlinewidth": 0,
              "ticks": ""
             }
            },
            "type": "scatterpolargl"
           }
          ],
          "scatterternary": [
           {
            "marker": {
             "colorbar": {
              "outlinewidth": 0,
              "ticks": ""
             }
            },
            "type": "scatterternary"
           }
          ],
          "surface": [
           {
            "colorbar": {
             "outlinewidth": 0,
             "ticks": ""
            },
            "colorscale": [
             [
              0,
              "#0d0887"
             ],
             [
              0.1111111111111111,
              "#46039f"
             ],
             [
              0.2222222222222222,
              "#7201a8"
             ],
             [
              0.3333333333333333,
              "#9c179e"
             ],
             [
              0.4444444444444444,
              "#bd3786"
             ],
             [
              0.5555555555555556,
              "#d8576b"
             ],
             [
              0.6666666666666666,
              "#ed7953"
             ],
             [
              0.7777777777777778,
              "#fb9f3a"
             ],
             [
              0.8888888888888888,
              "#fdca26"
             ],
             [
              1,
              "#f0f921"
             ]
            ],
            "type": "surface"
           }
          ],
          "table": [
           {
            "cells": {
             "fill": {
              "color": "#EBF0F8"
             },
             "line": {
              "color": "white"
             }
            },
            "header": {
             "fill": {
              "color": "#C8D4E3"
             },
             "line": {
              "color": "white"
             }
            },
            "type": "table"
           }
          ]
         },
         "layout": {
          "annotationdefaults": {
           "arrowcolor": "#2a3f5f",
           "arrowhead": 0,
           "arrowwidth": 1
          },
          "autotypenumbers": "strict",
          "coloraxis": {
           "colorbar": {
            "outlinewidth": 0,
            "ticks": ""
           }
          },
          "colorscale": {
           "diverging": [
            [
             0,
             "#8e0152"
            ],
            [
             0.1,
             "#c51b7d"
            ],
            [
             0.2,
             "#de77ae"
            ],
            [
             0.3,
             "#f1b6da"
            ],
            [
             0.4,
             "#fde0ef"
            ],
            [
             0.5,
             "#f7f7f7"
            ],
            [
             0.6,
             "#e6f5d0"
            ],
            [
             0.7,
             "#b8e186"
            ],
            [
             0.8,
             "#7fbc41"
            ],
            [
             0.9,
             "#4d9221"
            ],
            [
             1,
             "#276419"
            ]
           ],
           "sequential": [
            [
             0,
             "#0d0887"
            ],
            [
             0.1111111111111111,
             "#46039f"
            ],
            [
             0.2222222222222222,
             "#7201a8"
            ],
            [
             0.3333333333333333,
             "#9c179e"
            ],
            [
             0.4444444444444444,
             "#bd3786"
            ],
            [
             0.5555555555555556,
             "#d8576b"
            ],
            [
             0.6666666666666666,
             "#ed7953"
            ],
            [
             0.7777777777777778,
             "#fb9f3a"
            ],
            [
             0.8888888888888888,
             "#fdca26"
            ],
            [
             1,
             "#f0f921"
            ]
           ],
           "sequentialminus": [
            [
             0,
             "#0d0887"
            ],
            [
             0.1111111111111111,
             "#46039f"
            ],
            [
             0.2222222222222222,
             "#7201a8"
            ],
            [
             0.3333333333333333,
             "#9c179e"
            ],
            [
             0.4444444444444444,
             "#bd3786"
            ],
            [
             0.5555555555555556,
             "#d8576b"
            ],
            [
             0.6666666666666666,
             "#ed7953"
            ],
            [
             0.7777777777777778,
             "#fb9f3a"
            ],
            [
             0.8888888888888888,
             "#fdca26"
            ],
            [
             1,
             "#f0f921"
            ]
           ]
          },
          "colorway": [
           "#636efa",
           "#EF553B",
           "#00cc96",
           "#ab63fa",
           "#FFA15A",
           "#19d3f3",
           "#FF6692",
           "#B6E880",
           "#FF97FF",
           "#FECB52"
          ],
          "font": {
           "color": "#2a3f5f"
          },
          "geo": {
           "bgcolor": "white",
           "lakecolor": "white",
           "landcolor": "#E5ECF6",
           "showlakes": true,
           "showland": true,
           "subunitcolor": "white"
          },
          "hoverlabel": {
           "align": "left"
          },
          "hovermode": "closest",
          "mapbox": {
           "style": "light"
          },
          "paper_bgcolor": "white",
          "plot_bgcolor": "#E5ECF6",
          "polar": {
           "angularaxis": {
            "gridcolor": "white",
            "linecolor": "white",
            "ticks": ""
           },
           "bgcolor": "#E5ECF6",
           "radialaxis": {
            "gridcolor": "white",
            "linecolor": "white",
            "ticks": ""
           }
          },
          "scene": {
           "xaxis": {
            "backgroundcolor": "#E5ECF6",
            "gridcolor": "white",
            "gridwidth": 2,
            "linecolor": "white",
            "showbackground": true,
            "ticks": "",
            "zerolinecolor": "white"
           },
           "yaxis": {
            "backgroundcolor": "#E5ECF6",
            "gridcolor": "white",
            "gridwidth": 2,
            "linecolor": "white",
            "showbackground": true,
            "ticks": "",
            "zerolinecolor": "white"
           },
           "zaxis": {
            "backgroundcolor": "#E5ECF6",
            "gridcolor": "white",
            "gridwidth": 2,
            "linecolor": "white",
            "showbackground": true,
            "ticks": "",
            "zerolinecolor": "white"
           }
          },
          "shapedefaults": {
           "line": {
            "color": "#2a3f5f"
           }
          },
          "ternary": {
           "aaxis": {
            "gridcolor": "white",
            "linecolor": "white",
            "ticks": ""
           },
           "baxis": {
            "gridcolor": "white",
            "linecolor": "white",
            "ticks": ""
           },
           "bgcolor": "#E5ECF6",
           "caxis": {
            "gridcolor": "white",
            "linecolor": "white",
            "ticks": ""
           }
          },
          "title": {
           "x": 0.05
          },
          "xaxis": {
           "automargin": true,
           "gridcolor": "white",
           "linecolor": "white",
           "ticks": "",
           "title": {
            "standoff": 15
           },
           "zerolinecolor": "white",
           "zerolinewidth": 2
          },
          "yaxis": {
           "automargin": true,
           "gridcolor": "white",
           "linecolor": "white",
           "ticks": "",
           "title": {
            "standoff": 15
           },
           "zerolinecolor": "white",
           "zerolinewidth": 2
          }
         }
        },
        "title": {
         "text": "2023 Income by State"
        }
       }
      }
     },
     "metadata": {},
     "output_type": "display_data"
    }
   ],
   "source": [
    "mean_state_income = df.groupby('fips')['federal_gross_income_adj'].mean().reset_index()\n",
    "\n",
    "fig = go.Figure(data = go.Choropleth(\n",
    "    locations = mean_state_income['fips'],\n",
    "    z = mean_state_income['federal_gross_income_adj'],\n",
    "    locationmode='USA-states',\n",
    "    colorscale = 'Oranges',\n",
    "    colorbar_title = \"Mean Income\"\n",
    "))\n",
    "fig.update_layout(\n",
    "    geo_scope = 'usa',\n",
    "    title_text = \"2023 Income by State\"\n",
    ")\n",
    "#fig.write_image('../site_pages/plots/mean_income_by_state.png')\n"
   ]
  },
  {
   "cell_type": "code",
   "execution_count": 42,
   "metadata": {},
   "outputs": [
    {
     "name": "stderr",
     "output_type": "stream",
     "text": [
      "C:\\Users\\admin\\AppData\\Local\\Temp\\ipykernel_23528\\1496353851.py:11: UserWarning:\n",
      "\n",
      "Tight layout not applied. The left and right margins cannot be made large enough to accommodate all axes decorations.\n",
      "\n"
     ]
    },
    {
     "data": {
      "image/png": "[encoded data removed]",
      "text/plain": [
       "<Figure size 640x480 with 1 Axes>"
      ]
     },
     "metadata": {},
     "output_type": "display_data"
    }
   ],
   "source": [
    "impoverished = df.loc[df['poverty_ratio'] != \"NOT IN POVERTY UNIVERSE\"]\n",
    "plt.pie(impoverished['poverty_ratio'].value_counts(),\n",
    "    labels = impoverished['poverty_ratio'].value_counts().index,\n",
    "    autopct = '%.2f%%',\n",
    "    textprops = {'color':'w','fontsize':12})\n",
    "plt.legend(bbox_to_anchor=(1,0.5),\n",
    "    loc=\"best\",\n",
    "    fontsize=14)\n",
    "plt.title('Poverty Ratios in the US (2023)',\n",
    "    fontsize = 16)\n",
    "plt.tight_layout()\n",
    "plt.savefig('../site_pages/plots/poverty_ratios.png')"
   ]
  },
  {
   "cell_type": "code",
   "execution_count": 62,
   "metadata": {},
   "outputs": [
    {
     "name": "stderr",
     "output_type": "stream",
     "text": [
      "c:\\Users\\admin\\AppData\\Local\\Programs\\Python\\Python311\\Lib\\site-packages\\seaborn\\_oldcore.py:1498: FutureWarning:\n",
      "\n",
      "is_categorical_dtype is deprecated and will be removed in a future version. Use isinstance(dtype, CategoricalDtype) instead\n",
      "\n",
      "c:\\Users\\admin\\AppData\\Local\\Programs\\Python\\Python311\\Lib\\site-packages\\seaborn\\_oldcore.py:1498: FutureWarning:\n",
      "\n",
      "is_categorical_dtype is deprecated and will be removed in a future version. Use isinstance(dtype, CategoricalDtype) instead\n",
      "\n"
     ]
    },
    {
     "data": {
      "image/png": "[encoded data removed]",
      "text/plain": [
       "<Figure size 1200x1200 with 1 Axes>"
      ]
     },
     "metadata": {},
     "output_type": "display_data"
    }
   ],
   "source": [
    "plt.figure(figsize = (12,12))\n",
    "sns.countplot(data = df, \n",
    "                x = \"highest_education\",\n",
    "                order = df['highest_education'].value_counts().index)\n",
    "plt.xticks(rotation = 80)\n",
    "plt.title(\"Highest Education Completed (2023)\")\n",
    "plt.tight_layout()\n",
    "plt.savefig('../site_pages/plots/education.png')"
   ]
  },
  {
   "cell_type": "code",
   "execution_count": 70,
   "metadata": {},
   "outputs": [
    {
     "name": "stderr",
     "output_type": "stream",
     "text": [
      "c:\\Users\\admin\\AppData\\Local\\Programs\\Python\\Python311\\Lib\\site-packages\\seaborn\\_oldcore.py:1498: FutureWarning:\n",
      "\n",
      "is_categorical_dtype is deprecated and will be removed in a future version. Use isinstance(dtype, CategoricalDtype) instead\n",
      "\n",
      "c:\\Users\\admin\\AppData\\Local\\Programs\\Python\\Python311\\Lib\\site-packages\\seaborn\\_oldcore.py:1119: FutureWarning:\n",
      "\n",
      "use_inf_as_na option is deprecated and will be removed in a future version. Convert inf values to NaN before operating instead.\n",
      "\n"
     ]
    },
    {
     "data": {
      "text/plain": [
       "<Axes: xlabel='federal_gross_income_adj', ylabel='Density'>"
      ]
     },
     "execution_count": 70,
     "metadata": {},
     "output_type": "execute_result"
    },
    {
     "data": {
      "image/png": "[encoded data removed]",
      "text/plain": [
       "<Figure size 640x480 with 1 Axes>"
      ]
     },
     "metadata": {},
     "output_type": "display_data"
    }
   ],
   "source": [
    "sns.kdeplot(data = df,\n",
    "    x = \"federal_gross_income_adj\"\n",
    ")"
   ]
  },
  {
   "cell_type": "code",
   "execution_count": 69,
   "metadata": {},
   "outputs": [
    {
     "data": {
      "text/plain": [
       "age                           int64\n",
       "job_industry_recode          object\n",
       "school_enroll_lastweek       object\n",
       "employment                    int64\n",
       "fam_size                      int64\n",
       "full_time_work                int64\n",
       "full_part_school              int64\n",
       "highest_education            object\n",
       "hs_col_unenrolled             int64\n",
       "weekly_earnings               int64\n",
       "hourly_work_yn               object\n",
       "hours_worked                  int64\n",
       "labor_force_recode           object\n",
       "marital_status               object\n",
       "main_job_industry_recode     object\n",
       "sex                          object\n",
       "union_contract_avail         object\n",
       "union_member_yn              object\n",
       "reason_unemployed            object\n",
       "weeks_unemployed              int64\n",
       "ft_pt_unem                   object\n",
       "age_recode_gt15              object\n",
       "federal_gross_income_adj      int64\n",
       "need_childcare               object\n",
       "hh_childcare_val              int64\n",
       "hh_childcare                 object\n",
       "health_insurance_ly          object\n",
       "company_offer_insurance      object\n",
       "poverty_ratio                object\n",
       "family_earn_ly                int64\n",
       "fam_id                        int64\n",
       "fam_med_costs                 int64\n",
       "fam_outofpocket_med_costs     int64\n",
       "fam_otc_med_costs             int64\n",
       "fam_rent_val                  int64\n",
       "fips                         object\n",
       "state                         int64\n",
       "state.1                       int64\n",
       "dtype: object"
      ]
     },
     "execution_count": 69,
     "metadata": {},
     "output_type": "execute_result"
    }
   ],
   "source": [
    "df.dtypes"
   ]
  },
  {
   "cell_type": "code",
   "execution_count": null,
   "metadata": {},
   "outputs": [],
   "source": []
  }
 ],
 "metadata": {
  "kernelspec": {
   "display_name": "Python 3",
   "language": "python",
   "name": "python3"
  },
  "language_info": {
   "codemirror_mode": {
    "name": "ipython",
    "version": 3
   },
   "file_extension": ".py",
   "mimetype": "text/x-python",
   "name": "python",
   "nbconvert_exporter": "python",
   "pygments_lexer": "ipython3",
   "version": "3.11.5"
  }
 },
 "nbformat": 4,
 "nbformat_minor": 2
}
